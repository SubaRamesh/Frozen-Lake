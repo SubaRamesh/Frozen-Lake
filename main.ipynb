{
 "cells": [
  {
   "cell_type": "code",
   "execution_count": 1,
   "metadata": {},
   "outputs": [],
   "source": [
    "import gym\n",
    "import pickle\n",
    "import numpy as np\n",
    "\n",
    "import os\n",
    "import glob"
   ]
  },
  {
   "cell_type": "code",
   "execution_count": 28,
   "metadata": {},
   "outputs": [],
   "source": [
    "env = gym.make('FrozenLake-v0', is_slippery = False)"
   ]
  },
  {
   "attachments": {},
   "cell_type": "markdown",
   "metadata": {},
   "source": [
    "## Random"
   ]
  },
  {
   "cell_type": "code",
   "execution_count": 124,
   "metadata": {},
   "outputs": [
    {
     "name": "stdout",
     "output_type": "stream",
     "text": [
      "Score:  1 0.0 False {'prob': 1.0}\n",
      "  (Right)\n",
      "S\u001b[41mF\u001b[0mFF\n",
      "FHFH\n",
      "FFFH\n",
      "HFFG\n",
      "Score:  0 0.0 False {'prob': 1.0}\n",
      "  (Left)\n",
      "\u001b[41mS\u001b[0mFFF\n",
      "FHFH\n",
      "FFFH\n",
      "HFFG\n",
      "Score:  0 0.0 False {'prob': 1.0}\n",
      "  (Up)\n",
      "\u001b[41mS\u001b[0mFFF\n",
      "FHFH\n",
      "FFFH\n",
      "HFFG\n",
      "Score:  0 0.0 False {'prob': 1.0}\n",
      "  (Left)\n",
      "\u001b[41mS\u001b[0mFFF\n",
      "FHFH\n",
      "FFFH\n",
      "HFFG\n",
      "Score:  0 0.0 False {'prob': 1.0}\n",
      "  (Left)\n",
      "\u001b[41mS\u001b[0mFFF\n",
      "FHFH\n",
      "FFFH\n",
      "HFFG\n",
      "Score:  0 0.0 False {'prob': 1.0}\n",
      "  (Left)\n",
      "\u001b[41mS\u001b[0mFFF\n",
      "FHFH\n",
      "FFFH\n",
      "HFFG\n",
      "Score:  4 0.0 False {'prob': 1.0}\n",
      "  (Down)\n",
      "SFFF\n",
      "\u001b[41mF\u001b[0mHFH\n",
      "FFFH\n",
      "HFFG\n",
      "Score:  5 0.0 True {'prob': 1.0}\n",
      "  (Right)\n",
      "SFFF\n",
      "F\u001b[41mH\u001b[0mFH\n",
      "FFFH\n",
      "HFFG\n"
     ]
    }
   ],
   "source": [
    "total_reward = 0\n",
    "\n",
    "env.reset()\n",
    "\n",
    "while 1:\n",
    "    obser, r, done, info = env.step(env.action_space.sample())\n",
    "\n",
    "    print(\"Score: \", obser, r, done, info)\n",
    "    \n",
    "    total_reward += r\n",
    "    window_still_open = env.render()\n",
    "    if window_still_open == False or done:\n",
    "        env.close()\n",
    "        break\n",
    "    "
   ]
  },
  {
   "attachments": {},
   "cell_type": "markdown",
   "metadata": {},
   "source": [
    "## Q Learning"
   ]
  },
  {
   "cell_type": "code",
   "execution_count": 40,
   "metadata": {},
   "outputs": [],
   "source": [
    "q_table = np.zeros((env.observation_space.n, env.action_space.n))"
   ]
  },
  {
   "cell_type": "code",
   "execution_count": 41,
   "metadata": {},
   "outputs": [],
   "source": [
    "episodes = 1000\n",
    "alpha = 0.5\n",
    "gamma = 0.9"
   ]
  },
  {
   "cell_type": "code",
   "execution_count": 42,
   "metadata": {},
   "outputs": [],
   "source": [
    "results = []\n",
    "\n",
    "## Training\n",
    "for _ in range(episodes):\n",
    "    state = env.reset()\n",
    "    done = False\n",
    "    \n",
    "    results.append(False)\n",
    "    \n",
    "    while not done:\n",
    "        if np.max(q_table[state]) > 0:\n",
    "            action = np.argmax(q_table[state])\n",
    "        else:\n",
    "            action = env.action_space.sample()\n",
    "        \n",
    "        next_state, r, done, info = env.step(action)\n",
    "        \n",
    "        q_table[state][action] = q_table[state][action] + alpha * (r + gamma*max(q_table[next_state]) - q_table[state][action])\n",
    "        \n",
    "        state = next_state\n",
    "        \n",
    "        if r:\n",
    "            results[-1] = True"
   ]
  },
  {
   "cell_type": "code",
   "execution_count": 43,
   "metadata": {},
   "outputs": [
    {
     "data": {
      "text/plain": [
       "936"
      ]
     },
     "execution_count": 43,
     "metadata": {},
     "output_type": "execute_result"
    }
   ],
   "source": [
    "results.count(True)"
   ]
  },
  {
   "cell_type": "code",
   "execution_count": null,
   "metadata": {},
   "outputs": [],
   "source": [
    "## Eval\n",
    "\n",
    "test_episodes = 100\n",
    "success = 0\n",
    "\n",
    "for _ in range(test_episodes):\n",
    "    state = env.reset()\n",
    "    done = False\n",
    "    \n",
    "    while not done:\n",
    "        action = np.argmax(q_table[state])\n",
    "        \n",
    "        state, r, done, info = env.step(action)\n",
    "        \n",
    "        success += r\n",
    "    \n",
    "print(\"Success rate: \", success/test_episodes)\n",
    "        "
   ]
  },
  {
   "attachments": {},
   "cell_type": "markdown",
   "metadata": {},
   "source": [
    "## Epsilon-Greedy"
   ]
  },
  {
   "cell_type": "code",
   "execution_count": 47,
   "metadata": {},
   "outputs": [],
   "source": [
    "q_table = np.zeros((env.observation_space.n, env.action_space.n))"
   ]
  },
  {
   "cell_type": "code",
   "execution_count": 51,
   "metadata": {},
   "outputs": [],
   "source": [
    "episodes = 1000\n",
    "alpha = 0.5\n",
    "gamma = 0.9\n",
    "\n",
    "epsilon = 0.4"
   ]
  },
  {
   "cell_type": "code",
   "execution_count": 52,
   "metadata": {},
   "outputs": [],
   "source": [
    "results = []\n",
    "\n",
    "## Training\n",
    "for _ in range(episodes):\n",
    "    state = env.reset()\n",
    "    done = False\n",
    "    \n",
    "    results.append(False)\n",
    "    \n",
    "    while not done:\n",
    "        n = np.random.random()\n",
    "        \n",
    "        if n < epsilon:\n",
    "            action = env.action_space.sample()\n",
    "        else:\n",
    "            action = np.argmax(q_table[state])\n",
    "        \n",
    "        next_state, r, done, info = env.step(action)\n",
    "        \n",
    "        q_table[state][action] = q_table[state][action] + alpha * (r + gamma*max(q_table[next_state]) - q_table[state][action])\n",
    "        \n",
    "        state = next_state\n",
    "        \n",
    "        if r:\n",
    "            results[-1] = True"
   ]
  },
  {
   "cell_type": "code",
   "execution_count": 53,
   "metadata": {},
   "outputs": [
    {
     "data": {
      "text/plain": [
       "422"
      ]
     },
     "execution_count": 53,
     "metadata": {},
     "output_type": "execute_result"
    }
   ],
   "source": [
    "results.count(True)"
   ]
  },
  {
   "cell_type": "code",
   "execution_count": 54,
   "metadata": {},
   "outputs": [
    {
     "data": {
      "text/plain": [
       "array([[0.531441  , 0.59049   , 0.59049   , 0.531441  ],\n",
       "       [0.531441  , 0.        , 0.6561    , 0.5640584 ],\n",
       "       [0.59039443, 0.729     , 0.5535176 , 0.59141841],\n",
       "       [0.64582714, 0.        , 0.14733417, 0.        ],\n",
       "       [0.59049   , 0.6561    , 0.        , 0.531441  ],\n",
       "       [0.        , 0.        , 0.        , 0.        ],\n",
       "       [0.        , 0.81      , 0.        , 0.6380125 ],\n",
       "       [0.        , 0.        , 0.        , 0.        ],\n",
       "       [0.6561    , 0.        , 0.729     , 0.59049   ],\n",
       "       [0.6561    , 0.81      , 0.81      , 0.        ],\n",
       "       [0.729     , 0.9       , 0.        , 0.729     ],\n",
       "       [0.        , 0.        , 0.        , 0.        ],\n",
       "       [0.        , 0.        , 0.        , 0.        ],\n",
       "       [0.        , 0.80999842, 0.9       , 0.72757617],\n",
       "       [0.81      , 0.9       , 1.        , 0.81      ],\n",
       "       [0.        , 0.        , 0.        , 0.        ]])"
      ]
     },
     "execution_count": 54,
     "metadata": {},
     "output_type": "execute_result"
    }
   ],
   "source": [
    "q_table"
   ]
  },
  {
   "cell_type": "code",
   "execution_count": 55,
   "metadata": {},
   "outputs": [
    {
     "name": "stdout",
     "output_type": "stream",
     "text": [
      "Success rate:  1.0\n"
     ]
    }
   ],
   "source": [
    "## Eval\n",
    "\n",
    "test_episodes = 100\n",
    "success = 0\n",
    "\n",
    "for _ in range(test_episodes):\n",
    "    state = env.reset()\n",
    "    done = False\n",
    "    \n",
    "    while not done:\n",
    "        action = np.argmax(q_table[state])\n",
    "        \n",
    "        state, r, done, info = env.step(action)\n",
    "        \n",
    "        success += r\n",
    "    \n",
    "print(\"Success rate: \", success/test_episodes)"
   ]
  },
  {
   "attachments": {},
   "cell_type": "markdown",
   "metadata": {},
   "source": [
    "## Deep Q-Learning"
   ]
  },
  {
   "cell_type": "code",
   "execution_count": 93,
   "metadata": {},
   "outputs": [],
   "source": [
    "import torch\n",
    "import torch.nn as nn\n",
    "import torch.nn.functional as F\n",
    "import torch.optim as optim"
   ]
  },
  {
   "cell_type": "code",
   "execution_count": 132,
   "metadata": {},
   "outputs": [],
   "source": [
    "class Net(nn.Module):\n",
    "    def __init__(self, input_dim, output_dim):\n",
    "        super().__init__()\n",
    "        self.fc1 = nn.Linear(input_dim, 16)        \n",
    "        self.fc2 = nn.Linear(16, output_dim, bias=False)\n",
    "\n",
    "    def forward(self, state):\n",
    "        x = torch.zeros(env.observation_space.n)\n",
    "        x[state] = 1\n",
    "        \n",
    "        x = self.fc1(x)\n",
    "        x = F.relu(x)\n",
    "        x = self.fc2(x)\n",
    "        x = F.relu(x)\n",
    "        return x"
   ]
  },
  {
   "cell_type": "code",
   "execution_count": 158,
   "metadata": {},
   "outputs": [],
   "source": [
    "episodes = 1000\n",
    "lr = 1e-3\n",
    "gamma = 0.9\n",
    "\n",
    "epsilon = 0.5"
   ]
  },
  {
   "cell_type": "code",
   "execution_count": 159,
   "metadata": {},
   "outputs": [],
   "source": [
    "model = Net(env.observation_space.n, env.action_space.n)\n",
    "optimizer = optim.Adam(model.parameters(), lr=lr)\n"
   ]
  },
  {
   "cell_type": "code",
   "execution_count": 160,
   "metadata": {},
   "outputs": [],
   "source": [
    "import random\n",
    "\n",
    "class Buffer:\n",
    "   curr_state = []\n",
    "   next_state = []\n",
    "   action = []\n",
    "   reward = []\n",
    "   done = []\n",
    "  \n",
    "   def save(action, curr_state, next_state, reward, done):\n",
    "       Buffer.action.append(action)\n",
    "       Buffer.curr_state.append(curr_state)\n",
    "       Buffer.next_state.append(next_state)\n",
    "       Buffer.reward.append(reward)\n",
    "       Buffer.done.append(done)\n",
    "\n",
    "   def get_sample(num_sample=20):\n",
    "    #    ids =- random.sample(range(0, len(Buffer.action) - 1), num_sample)\n",
    "      \n",
    "       action = []\n",
    "       curr_state = []\n",
    "       next_state = []\n",
    "       reward = []\n",
    "       done = []\n",
    "       for i in random.sample(range(0, len(Buffer.action) - 1), num_sample):\n",
    "           action.append(Buffer.action[i])\n",
    "           curr_state.append(Buffer.curr_state[i])\n",
    "           next_state.append(Buffer.next_state[i])\n",
    "           reward.append(Buffer.reward[i])\n",
    "           done.append(Buffer.done[i])\n",
    "          \n",
    "       return action, curr_state, next_state, reward, done"
   ]
  },
  {
   "cell_type": "code",
   "execution_count": 161,
   "metadata": {},
   "outputs": [
    {
     "name": "stdout",
     "output_type": "stream",
     "text": [
      "Episode: 0 last loss: tensor(0., grad_fn=<MseLossBackward0>)\n",
      "Episode: 10 last loss: tensor(0., grad_fn=<MseLossBackward0>)\n",
      "Episode: 20 last loss: tensor(0., grad_fn=<MseLossBackward0>)\n",
      "Episode: 30 last loss: tensor(0., grad_fn=<MseLossBackward0>)\n",
      "Episode: 40 last loss: tensor(0., grad_fn=<MseLossBackward0>)\n",
      "Episode: 50 last loss: tensor(0., grad_fn=<MseLossBackward0>)\n",
      "Episode: 60 last loss: tensor(0., grad_fn=<MseLossBackward0>)\n",
      "Episode: 70 last loss: tensor(0., grad_fn=<MseLossBackward0>)\n",
      "Episode: 80 last loss: tensor(0., grad_fn=<MseLossBackward0>)\n",
      "Episode: 90 last loss: tensor(0., grad_fn=<MseLossBackward0>)\n",
      "Episode: 100 last loss: tensor(0., grad_fn=<MseLossBackward0>)\n",
      "Episode: 110 last loss: tensor(0., grad_fn=<MseLossBackward0>)\n",
      "Episode: 120 last loss: tensor(0., grad_fn=<MseLossBackward0>)\n",
      "Episode: 130 last loss: tensor(0., grad_fn=<MseLossBackward0>)\n",
      "Episode: 140 last loss: tensor(0., grad_fn=<MseLossBackward0>)\n",
      "Episode: 150 last loss: tensor(0., grad_fn=<MseLossBackward0>)\n",
      "Episode: 160 last loss: tensor(0., grad_fn=<MseLossBackward0>)\n",
      "Episode: 170 last loss: tensor(0., grad_fn=<MseLossBackward0>)\n",
      "Episode: 180 last loss: tensor(0., grad_fn=<MseLossBackward0>)\n"
     ]
    },
    {
     "ename": "KeyboardInterrupt",
     "evalue": "",
     "output_type": "error",
     "traceback": [
      "\u001b[1;31m---------------------------------------------------------------------------\u001b[0m",
      "\u001b[1;31mKeyboardInterrupt\u001b[0m                         Traceback (most recent call last)",
      "\u001b[1;32mc:\\Users\\suba\\Desktop\\Frozen Lake\\main.ipynb Cell 24\u001b[0m in \u001b[0;36m<cell line: 3>\u001b[1;34m()\u001b[0m\n\u001b[0;32m     <a href='vscode-notebook-cell:/c%3A/Users/suba/Desktop/Frozen%20Lake/main.ipynb#X32sZmlsZQ%3D%3D?line=35'>36</a>\u001b[0m             real_q \u001b[39m=\u001b[39m r \u001b[39m+\u001b[39m gamma\u001b[39m*\u001b[39mtorch\u001b[39m.\u001b[39mmax(next_state_qvals)\n\u001b[0;32m     <a href='vscode-notebook-cell:/c%3A/Users/suba/Desktop/Frozen%20Lake/main.ipynb#X32sZmlsZQ%3D%3D?line=37'>38</a>\u001b[0m             loss \u001b[39m=\u001b[39m F\u001b[39m.\u001b[39mmse_loss(state_q, real_q)\n\u001b[1;32m---> <a href='vscode-notebook-cell:/c%3A/Users/suba/Desktop/Frozen%20Lake/main.ipynb#X32sZmlsZQ%3D%3D?line=38'>39</a>\u001b[0m             loss\u001b[39m.\u001b[39;49mbackward()\n\u001b[0;32m     <a href='vscode-notebook-cell:/c%3A/Users/suba/Desktop/Frozen%20Lake/main.ipynb#X32sZmlsZQ%3D%3D?line=39'>40</a>\u001b[0m             optimizer\u001b[39m.\u001b[39mstep()\n\u001b[0;32m     <a href='vscode-notebook-cell:/c%3A/Users/suba/Desktop/Frozen%20Lake/main.ipynb#X32sZmlsZQ%3D%3D?line=41'>42</a>\u001b[0m \u001b[39mif\u001b[39;00m k \u001b[39m%\u001b[39m \u001b[39m10\u001b[39m \u001b[39m==\u001b[39m \u001b[39m0\u001b[39m:\n",
      "File \u001b[1;32mc:\\Users\\suba\\.conda\\envs\\cpsc672\\lib\\site-packages\\torch\\_tensor.py:487\u001b[0m, in \u001b[0;36mTensor.backward\u001b[1;34m(self, gradient, retain_graph, create_graph, inputs)\u001b[0m\n\u001b[0;32m    477\u001b[0m \u001b[39mif\u001b[39;00m has_torch_function_unary(\u001b[39mself\u001b[39m):\n\u001b[0;32m    478\u001b[0m     \u001b[39mreturn\u001b[39;00m handle_torch_function(\n\u001b[0;32m    479\u001b[0m         Tensor\u001b[39m.\u001b[39mbackward,\n\u001b[0;32m    480\u001b[0m         (\u001b[39mself\u001b[39m,),\n\u001b[1;32m   (...)\u001b[0m\n\u001b[0;32m    485\u001b[0m         inputs\u001b[39m=\u001b[39minputs,\n\u001b[0;32m    486\u001b[0m     )\n\u001b[1;32m--> 487\u001b[0m torch\u001b[39m.\u001b[39;49mautograd\u001b[39m.\u001b[39;49mbackward(\n\u001b[0;32m    488\u001b[0m     \u001b[39mself\u001b[39;49m, gradient, retain_graph, create_graph, inputs\u001b[39m=\u001b[39;49minputs\n\u001b[0;32m    489\u001b[0m )\n",
      "File \u001b[1;32mc:\\Users\\suba\\.conda\\envs\\cpsc672\\lib\\site-packages\\torch\\autograd\\__init__.py:197\u001b[0m, in \u001b[0;36mbackward\u001b[1;34m(tensors, grad_tensors, retain_graph, create_graph, grad_variables, inputs)\u001b[0m\n\u001b[0;32m    192\u001b[0m     retain_graph \u001b[39m=\u001b[39m create_graph\n\u001b[0;32m    194\u001b[0m \u001b[39m# The reason we repeat same the comment below is that\u001b[39;00m\n\u001b[0;32m    195\u001b[0m \u001b[39m# some Python versions print out the first line of a multi-line function\u001b[39;00m\n\u001b[0;32m    196\u001b[0m \u001b[39m# calls in the traceback and some print out the last line\u001b[39;00m\n\u001b[1;32m--> 197\u001b[0m Variable\u001b[39m.\u001b[39;49m_execution_engine\u001b[39m.\u001b[39;49mrun_backward(  \u001b[39m# Calls into the C++ engine to run the backward pass\u001b[39;49;00m\n\u001b[0;32m    198\u001b[0m     tensors, grad_tensors_, retain_graph, create_graph, inputs,\n\u001b[0;32m    199\u001b[0m     allow_unreachable\u001b[39m=\u001b[39;49m\u001b[39mTrue\u001b[39;49;00m, accumulate_grad\u001b[39m=\u001b[39;49m\u001b[39mTrue\u001b[39;49;00m)\n",
      "\u001b[1;31mKeyboardInterrupt\u001b[0m: "
     ]
    }
   ],
   "source": [
    "\n",
    "results = []\n",
    "## Training\n",
    "for k in range(episodes):\n",
    "    state = env.reset()\n",
    "    done = False\n",
    "    \n",
    "    results.append(False)\n",
    "    \n",
    "    while not done:\n",
    "        state_qvals = model(state)\n",
    "        \n",
    "        n = np.random.random()\n",
    "        if n < epsilon:\n",
    "            action = env.action_space.sample()\n",
    "        else:\n",
    "            action = int(torch.argmax(state_qvals))\n",
    "            \n",
    "        next_state, r, done, info = env.step(action)\n",
    "        \n",
    "        # save current step to buffer\n",
    "        Buffer.save(action, state, next_state, r, done)\n",
    "        \n",
    "        state = next_state\n",
    "        if r:\n",
    "            results[-1] = True\n",
    "        \n",
    "        \n",
    "        # train with examples in the buffer\n",
    "        if 20 < len(Buffer.action):\n",
    "            buff_action, buff_state, buff_next_state, buff_r, buff_done = Buffer.get_sample()\n",
    "            \n",
    "            for i in range(len(buff_action)):\n",
    "                state_qvals = model(buff_state[i])\n",
    "                next_state_qvals = model(buff_next_state[i])\n",
    "                state_q = state_qvals[buff_action[i]]\n",
    "                real_q = r + gamma*torch.max(next_state_qvals)\n",
    "            \n",
    "                loss = F.mse_loss(state_q, real_q)\n",
    "                loss.backward()\n",
    "                optimizer.step()\n",
    "                \n",
    "    if k % 10 == 0:\n",
    "        print(\"Episode:\", k, \"last loss:\", loss)"
   ]
  },
  {
   "cell_type": "code",
   "execution_count": null,
   "metadata": {},
   "outputs": [],
   "source": [
    "## Eval\n",
    "\n",
    "test_episodes = 100\n",
    "success = 0\n",
    "\n",
    "for _ in range(test_episodes):\n",
    "    state = env.reset()\n",
    "    done = False\n",
    "    \n",
    "    while not done:\n",
    "        action = torch.argmax(model(state)) # np.argmax(q_table[state])\n",
    "        \n",
    "        state, r, done, info = env.step(action)\n",
    "        \n",
    "        success += r\n",
    "    \n",
    "print(\"Success rate: \", success/test_episodes)"
   ]
  }
 ],
 "metadata": {
  "kernelspec": {
   "display_name": "cpsc672",
   "language": "python",
   "name": "python3"
  },
  "language_info": {
   "codemirror_mode": {
    "name": "ipython",
    "version": 3
   },
   "file_extension": ".py",
   "mimetype": "text/x-python",
   "name": "python",
   "nbconvert_exporter": "python",
   "pygments_lexer": "ipython3",
   "version": "3.9.13"
  },
  "orig_nbformat": 4
 },
 "nbformat": 4,
 "nbformat_minor": 2
}
